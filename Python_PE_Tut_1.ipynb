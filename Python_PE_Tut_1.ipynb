{
  "nbformat": 4,
  "nbformat_minor": 0,
  "metadata": {
    "colab": {
      "name": "Python_PE_Tut 1.ipynb",
      "provenance": [],
      "authorship_tag": "ABX9TyMIiT+7L9aSgb/pmAWrUs3n",
      "include_colab_link": true
    },
    "kernelspec": {
      "name": "python3",
      "display_name": "Python 3"
    },
    "language_info": {
      "name": "python"
    }
  },
  "cells": [
    {
      "cell_type": "markdown",
      "metadata": {
        "id": "view-in-github",
        "colab_type": "text"
      },
      "source": [
        "<a href=\"https://colab.research.google.com/github/jayborse04/Hackerrank/blob/master/Python_PE_Tut_1.ipynb\" target=\"_parent\"><img src=\"https://colab.research.google.com/assets/colab-badge.svg\" alt=\"Open In Colab\"/></a>"
      ]
    },
    {
      "cell_type": "code",
      "metadata": {
        "id": "EoE5qSr0SXpr"
      },
      "source": [
        "#Assignment no. 1: Addition of 2 Variables\n",
        "#Name: Jayendra Borse\n",
        "#Division :E\n",
        "#Batch:E1\n",
        "#Date :21/05/2021\n",
        "\n",
        "a =int(input(\"Enter the First no. : \"))#Type casting\n",
        "b =int(input(\"Enter the Second no. : \"))#Type casting\n",
        "c=a+b\n",
        "print(\"Addition of the two given no. is  : \", c)"
      ],
      "execution_count": null,
      "outputs": []
    },
    {
      "cell_type": "code",
      "metadata": {
        "colab": {
          "base_uri": "https://localhost:8080/"
        },
        "id": "VF4idgtFSbtv",
        "outputId": "5073de52-c4d0-4955-8f74-a6065149040e"
      },
      "source": [
        "#Assignment no. 2A:a.Write a program to read (input ()) Celsius temperature and print (print ()) equivalent Fahrenheit temperate on screen.\n",
        "#Name: Jayendra Borse\n",
        "#Division :E\n",
        "#Batch:E1\n",
        "#Date :21/05/2021\n",
        "\n",
        "celcius =float(input(\"Enter the temperature reading in Celcius: \"))#Type casting\n",
        "farhenheit = (celcius*9/5) + 32\n",
        "print(str(celcius) + \" degree Celcius is equal to \" + str(farhenheit) +\" Degree Farhenheit\")"
      ],
      "execution_count": null,
      "outputs": [
        {
          "output_type": "stream",
          "text": [
            "Enter the temperature reading in Celcius: -53.6\n",
            "-53.6 degree Celcius is equal to -64.48 Degree Farhenheit\n"
          ],
          "name": "stdout"
        }
      ]
    },
    {
      "cell_type": "code",
      "metadata": {
        "colab": {
          "base_uri": "https://localhost:8080/"
        },
        "id": "vVrl4-cMUrcu",
        "outputId": "0c84cad5-0b16-4b25-e003-c278be901aa0"
      },
      "source": [
        "#Assignment no. 2B: b.Write three functions that calculate the remainder of two integers by using: \n",
        "                      #(a)the basic operators of +, -, * and / (why is // not required?) \n",
        "                      #(b)the divmod function\n",
        "                      #(c)the % operator\n",
        "#Name: Jayendra Borse\n",
        "#Division :E\n",
        "#Batch:E1\n",
        "#Date :21/05/2021\n",
        "\n",
        "num1 = int(input(\"Enter the First No.: \"))\n",
        "num2 = int(input(\"Enter the Second No.: \"))\n",
        "print(\"Quotient=\",num1/num2,\"Remainder = \",num1%num2 )\n",
        "print(\"Quotient=\",num1//num2,\"Remainder = \",num1-num2*(num1//num2) )\n",
        "print(\"Quotient=\",divmod(num1,num2)[0],\"Remainder = \",divmod(num1,num2)[1])\n",
        "\n"
      ],
      "execution_count": null,
      "outputs": [
        {
          "output_type": "stream",
          "text": [
            "Enter the First No.: 37\n",
            "Enter the Second No.: 5\n",
            "Quotient= 7.4 Remainder =  2\n",
            "Quotient= 7 Remainder =  2\n",
            "Quotient= 7 Remainder =  2\n"
          ],
          "name": "stdout"
        }
      ]
    },
    {
      "cell_type": "code",
      "metadata": {
        "colab": {
          "base_uri": "https://localhost:8080/"
        },
        "id": "9wqPKHrYXEr4",
        "outputId": "19f6db66-fa34-4cee-beb3-c04ff45b36ba"
      },
      "source": [
        "#Assignment no 2C: c.Copy-paste this super-nested Python list-dictionary:\n",
        "#Test=[{‘Arizona’: ‘Phoenix’, ‘California’: ‘Sacramento’, ‘Hawaii’: ‘Honolulu’}, 1000,2000,3000,[‘hat’, ‘t-shirt’, ‘jeans’, {‘socks1’: ‘red’, ‘socks2’: ‘blue’}]]\n",
        "#                (a)Return 2000 on your screen. \n",
        "#                (b)Return the dictionary of the cities and states on your screen. (This=[{‘Arizona’: ‘Phoenix’, ‘California’: ‘Sacramento’, ‘Hawaii’: ‘Honolulu’}. \n",
        "#                (c)Return the list of the clothes on clothes on your screen! (This,[‘hat’, ‘t-shirt’, ‘jeans’, {‘socks1’: ‘red’, ‘socks2’: ‘blue’}])\n",
        "#                (d)Return the word ‘Phoenix’ on your screen.\n",
        "#                (e)Return the word ‘jeans’ on your screen. \n",
        "#                (f)Return the word ‘blue’ on your screen.\n",
        "\n",
        "Test=[{'Arizona': 'Phoenix',\n",
        "       'California': 'Sacramento', \n",
        "       'Hawaii': 'Honolulu'}, \n",
        "        1000,2000,3000,\n",
        "       ['hat', 'tshirt', 'jeans', \n",
        "       {'socks1': 'red', 'socks2': 'blue'}]]\n",
        "\n",
        "print(Test[2])\n",
        "print(\"This =\",Test[0])\n",
        "print(\"This,\",Test[4])\n",
        "print(\"Word:\",Test[0][\"Arizona\"])\n",
        "print(\"Word:\",Test[4][2])\n",
        "print(\"Word:\",Test[4][3][\"socks2\"])"
      ],
      "execution_count": 5,
      "outputs": [
        {
          "output_type": "stream",
          "text": [
            "2000\n",
            "This = {'Arizona': 'Phoenix', 'California': 'Sacramento', 'Hawaii': 'Honolulu'}\n",
            "This, ['hat', 'tshirt', 'jeans', {'socks1': 'red', 'socks2': 'blue'}]\n",
            "Word: Phoenix\n",
            "Word: jeans\n",
            "Word: blue\n"
          ],
          "name": "stdout"
        }
      ]
    },
    {
      "cell_type": "code",
      "metadata": {
        "id": "PYVgEb4vh2hu"
      },
      "source": [
        "print(\"Additional Problems\")\n",
        "print(\"Keys of first one\")\n",
        "print(Test[0].keys())\n",
        "print(\"Values of first one\")\n",
        "print(Test[0].values())"
      ],
      "execution_count": null,
      "outputs": []
    },
    {
      "cell_type": "code",
      "metadata": {
        "colab": {
          "base_uri": "https://localhost:8080/"
        },
        "id": "676EeRgQh38G",
        "outputId": "310db79e-439a-4cd5-d1a9-9c7647648111"
      },
      "source": [
        "print(\"Values of 1st dict\", Test[0].values())\n",
        "print(\"Keys of 1st dict\", Test[0].keys())\n",
        "print(\"Items in 1st dict\", Test[0].items())\n",
        "\n",
        "print(\"Values of 2nd dict\", Test[4][3].values())\n",
        "print(\"Keys of 2nd dict\", Test[4][3].keys())\n",
        "print(\"Items in 2nd dict\", Test[4][3].items())"
      ],
      "execution_count": 6,
      "outputs": [
        {
          "output_type": "stream",
          "text": [
            "Values of 1st dict dict_values(['Phoenix', 'Sacramento', 'Honolulu'])\n",
            "Keys of 1st dict dict_keys(['Arizona', 'California', 'Hawaii'])\n",
            "Items in 1st dict dict_items([('Arizona', 'Phoenix'), ('California', 'Sacramento'), ('Hawaii', 'Honolulu')])\n",
            "Values of 2nd dict dict_values(['red', 'blue'])\n",
            "Keys of 2nd dict dict_keys(['socks1', 'socks2'])\n",
            "Items in 2nd dict dict_items([('socks1', 'red'), ('socks2', 'blue')])\n"
          ],
          "name": "stdout"
        }
      ]
    }
  ]
}